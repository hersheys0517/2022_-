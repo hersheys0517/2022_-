{
 "cells": [
  {
   "cell_type": "code",
   "execution_count": 15,
   "id": "28e4310c",
   "metadata": {},
   "outputs": [],
   "source": [
    "import pandas as pd\n",
    "from sklearn.feature_extraction.text import CountVectorizer\n",
    "from pyclustering.cluster import kmedoids\n",
    "import numpy as np"
   ]
  },
  {
   "cell_type": "code",
   "execution_count": 16,
   "id": "889b5603",
   "metadata": {},
   "outputs": [],
   "source": [
    "Data = pd.read_csv('For_K_Groupping.csv', engine = \"python\")"
   ]
  },
  {
   "cell_type": "code",
   "execution_count": 17,
   "id": "757e3706",
   "metadata": {},
   "outputs": [
    {
     "data": {
      "text/html": [
       "<div>\n",
       "<style scoped>\n",
       "    .dataframe tbody tr th:only-of-type {\n",
       "        vertical-align: middle;\n",
       "    }\n",
       "\n",
       "    .dataframe tbody tr th {\n",
       "        vertical-align: top;\n",
       "    }\n",
       "\n",
       "    .dataframe thead th {\n",
       "        text-align: right;\n",
       "    }\n",
       "</style>\n",
       "<table border=\"1\" class=\"dataframe\">\n",
       "  <thead>\n",
       "    <tr style=\"text-align: right;\">\n",
       "      <th></th>\n",
       "      <th>title</th>\n",
       "      <th>content</th>\n",
       "    </tr>\n",
       "  </thead>\n",
       "  <tbody>\n",
       "    <tr>\n",
       "      <th>0</th>\n",
       "      <td>Email Phishing</td>\n",
       "      <td>State-Sponsored Phishing Attack Targeted Israe...</td>\n",
       "    </tr>\n",
       "    <tr>\n",
       "      <th>1</th>\n",
       "      <td>Email Phishing</td>\n",
       "      <td>‘Callback’ Phishing Campaign Impersonates Secu...</td>\n",
       "    </tr>\n",
       "    <tr>\n",
       "      <th>2</th>\n",
       "      <td>Email Phishing</td>\n",
       "      <td>Novel Phishing Trick Uses Weird Links to Bypas...</td>\n",
       "    </tr>\n",
       "    <tr>\n",
       "      <th>3</th>\n",
       "      <td>Email Phishing</td>\n",
       "      <td>Exchange Servers Speared in IcedID Phishing Ca...</td>\n",
       "    </tr>\n",
       "    <tr>\n",
       "      <th>4</th>\n",
       "      <td>Email Phishing</td>\n",
       "      <td>Phishing Campaign Targeted Those Aiding Ukrain...</td>\n",
       "    </tr>\n",
       "  </tbody>\n",
       "</table>\n",
       "</div>"
      ],
      "text/plain": [
       "            title                                            content\n",
       "0  Email Phishing  State-Sponsored Phishing Attack Targeted Israe...\n",
       "1  Email Phishing  ‘Callback’ Phishing Campaign Impersonates Secu...\n",
       "2  Email Phishing  Novel Phishing Trick Uses Weird Links to Bypas...\n",
       "3  Email Phishing  Exchange Servers Speared in IcedID Phishing Ca...\n",
       "4  Email Phishing  Phishing Campaign Targeted Those Aiding Ukrain..."
      ]
     },
     "execution_count": 17,
     "metadata": {},
     "output_type": "execute_result"
    }
   ],
   "source": [
    "Data.head()"
   ]
  },
  {
   "cell_type": "code",
   "execution_count": 18,
   "id": "f0f1fc0f",
   "metadata": {},
   "outputs": [],
   "source": [
    "docs = Data['content']"
   ]
  },
  {
   "cell_type": "code",
   "execution_count": 19,
   "id": "3d7828da",
   "metadata": {},
   "outputs": [],
   "source": [
    "vec = CountVectorizer()\n",
    "X = vec.fit_transform(docs)"
   ]
  },
  {
   "cell_type": "code",
   "execution_count": 20,
   "id": "73e71df4",
   "metadata": {},
   "outputs": [],
   "source": [
    "df = pd.DataFrame(X.toarray(), columns=vec.get_feature_names_out()) # 뭔가 오류 떠서 get_feature_names 이거 대신에 저거 씀"
   ]
  },
  {
   "cell_type": "code",
   "execution_count": 21,
   "id": "3040b418",
   "metadata": {},
   "outputs": [],
   "source": [
    "kmedoids_instance = kmedoids.kmedoids(df.values, initial_index_medoids \\\n",
    "                                     = np.random.randint(15, size=4))\n",
    "# df.as_matrix() --> df.values"
   ]
  },
  {
   "cell_type": "code",
   "execution_count": 22,
   "id": "baf6d03c",
   "metadata": {},
   "outputs": [
    {
     "data": {
      "text/plain": [
       "<pyclustering.cluster.kmedoids.kmedoids at 0x7fc2634836d0>"
      ]
     },
     "execution_count": 22,
     "metadata": {},
     "output_type": "execute_result"
    }
   ],
   "source": [
    "kmedoids_instance.process()"
   ]
  },
  {
   "cell_type": "code",
   "execution_count": 23,
   "id": "35c57362",
   "metadata": {},
   "outputs": [],
   "source": [
    "clusters = kmedoids_instance.get_clusters()"
   ]
  },
  {
   "cell_type": "code",
   "execution_count": 24,
   "id": "92fba15f",
   "metadata": {},
   "outputs": [
    {
     "data": {
      "text/plain": [
       "[[37, 44, 53],\n",
       " [10,\n",
       "  14,\n",
       "  15,\n",
       "  19,\n",
       "  23,\n",
       "  24,\n",
       "  30,\n",
       "  32,\n",
       "  35,\n",
       "  42,\n",
       "  43,\n",
       "  48,\n",
       "  57,\n",
       "  58,\n",
       "  63,\n",
       "  67,\n",
       "  71,\n",
       "  73,\n",
       "  74,\n",
       "  75,\n",
       "  76,\n",
       "  78,\n",
       "  80,\n",
       "  84,\n",
       "  91,\n",
       "  94],\n",
       " [3, 4, 22, 66, 68, 70, 83, 85, 86, 87, 92],\n",
       " [0,\n",
       "  1,\n",
       "  2,\n",
       "  5,\n",
       "  6,\n",
       "  7,\n",
       "  8,\n",
       "  9,\n",
       "  11,\n",
       "  12,\n",
       "  13,\n",
       "  16,\n",
       "  17,\n",
       "  18,\n",
       "  20,\n",
       "  21,\n",
       "  25,\n",
       "  26,\n",
       "  27,\n",
       "  28,\n",
       "  29,\n",
       "  31,\n",
       "  33,\n",
       "  34,\n",
       "  36,\n",
       "  38,\n",
       "  39,\n",
       "  40,\n",
       "  41,\n",
       "  45,\n",
       "  46,\n",
       "  47,\n",
       "  49,\n",
       "  50,\n",
       "  51,\n",
       "  52,\n",
       "  54,\n",
       "  55,\n",
       "  56,\n",
       "  59,\n",
       "  60,\n",
       "  61,\n",
       "  62,\n",
       "  64,\n",
       "  65,\n",
       "  69,\n",
       "  72,\n",
       "  77,\n",
       "  79,\n",
       "  81,\n",
       "  82,\n",
       "  88,\n",
       "  89,\n",
       "  90,\n",
       "  93]]"
      ]
     },
     "execution_count": 24,
     "metadata": {},
     "output_type": "execute_result"
    }
   ],
   "source": [
    "clusters"
   ]
  }
 ],
 "metadata": {
  "kernelspec": {
   "display_name": "Python 3 (ipykernel)",
   "language": "python",
   "name": "python3"
  },
  "language_info": {
   "codemirror_mode": {
    "name": "ipython",
    "version": 3
   },
   "file_extension": ".py",
   "mimetype": "text/x-python",
   "name": "python",
   "nbconvert_exporter": "python",
   "pygments_lexer": "ipython3",
   "version": "3.9.13"
  }
 },
 "nbformat": 4,
 "nbformat_minor": 5
}
