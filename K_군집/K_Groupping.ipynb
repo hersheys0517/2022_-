{
 "cells": [
  {
   "cell_type": "code",
   "execution_count": 20,
   "id": "cb8e6b09",
   "metadata": {},
   "outputs": [],
   "source": [
    "import pandas as pd\n",
    "from sklearn.feature_extraction.text import CountVectorizer\n",
    "from sklearn.cluster import KMeans"
   ]
  },
  {
   "cell_type": "code",
   "execution_count": 21,
   "id": "9110b1cc",
   "metadata": {},
   "outputs": [],
   "source": [
    "Data = pd.read_csv('For_K_Groupping.csv', engine = \"python\")"
   ]
  },
  {
   "cell_type": "code",
   "execution_count": 22,
   "id": "16b3acb5",
   "metadata": {},
   "outputs": [
    {
     "data": {
      "text/html": [
       "<div>\n",
       "<style scoped>\n",
       "    .dataframe tbody tr th:only-of-type {\n",
       "        vertical-align: middle;\n",
       "    }\n",
       "\n",
       "    .dataframe tbody tr th {\n",
       "        vertical-align: top;\n",
       "    }\n",
       "\n",
       "    .dataframe thead th {\n",
       "        text-align: right;\n",
       "    }\n",
       "</style>\n",
       "<table border=\"1\" class=\"dataframe\">\n",
       "  <thead>\n",
       "    <tr style=\"text-align: right;\">\n",
       "      <th></th>\n",
       "      <th>title</th>\n",
       "      <th>content</th>\n",
       "    </tr>\n",
       "  </thead>\n",
       "  <tbody>\n",
       "    <tr>\n",
       "      <th>0</th>\n",
       "      <td>Email Phishing</td>\n",
       "      <td>State-Sponsored Phishing Attack Targeted Israe...</td>\n",
       "    </tr>\n",
       "    <tr>\n",
       "      <th>1</th>\n",
       "      <td>Email Phishing</td>\n",
       "      <td>‘Callback’ Phishing Campaign Impersonates Secu...</td>\n",
       "    </tr>\n",
       "    <tr>\n",
       "      <th>2</th>\n",
       "      <td>Email Phishing</td>\n",
       "      <td>Novel Phishing Trick Uses Weird Links to Bypas...</td>\n",
       "    </tr>\n",
       "    <tr>\n",
       "      <th>3</th>\n",
       "      <td>Email Phishing</td>\n",
       "      <td>Exchange Servers Speared in IcedID Phishing Ca...</td>\n",
       "    </tr>\n",
       "    <tr>\n",
       "      <th>4</th>\n",
       "      <td>Email Phishing</td>\n",
       "      <td>Phishing Campaign Targeted Those Aiding Ukrain...</td>\n",
       "    </tr>\n",
       "  </tbody>\n",
       "</table>\n",
       "</div>"
      ],
      "text/plain": [
       "            title                                            content\n",
       "0  Email Phishing  State-Sponsored Phishing Attack Targeted Israe...\n",
       "1  Email Phishing  ‘Callback’ Phishing Campaign Impersonates Secu...\n",
       "2  Email Phishing  Novel Phishing Trick Uses Weird Links to Bypas...\n",
       "3  Email Phishing  Exchange Servers Speared in IcedID Phishing Ca...\n",
       "4  Email Phishing  Phishing Campaign Targeted Those Aiding Ukrain..."
      ]
     },
     "execution_count": 22,
     "metadata": {},
     "output_type": "execute_result"
    }
   ],
   "source": [
    "Data.head()"
   ]
  },
  {
   "cell_type": "code",
   "execution_count": 23,
   "id": "39cb66bc",
   "metadata": {},
   "outputs": [],
   "source": [
    "docs = Data['content']"
   ]
  },
  {
   "cell_type": "code",
   "execution_count": 24,
   "id": "0f5dc9d8",
   "metadata": {},
   "outputs": [],
   "source": [
    "vec = CountVectorizer()\n",
    "X = vec.fit_transform(docs)"
   ]
  },
  {
   "cell_type": "code",
   "execution_count": 25,
   "id": "e4ea88d8",
   "metadata": {},
   "outputs": [],
   "source": [
    "df = pd.DataFrame(X.toarray(), columns=vec.get_feature_names_out()) # 뭔가 오류 떠서 get_feature_names 이거 대신에 저거 씀"
   ]
  },
  {
   "cell_type": "code",
   "execution_count": 26,
   "id": "0d48c23f",
   "metadata": {},
   "outputs": [],
   "source": [
    "kmeans = KMeans(n_clusters=4).fit(df)"
   ]
  },
  {
   "cell_type": "code",
   "execution_count": 27,
   "id": "e212349b",
   "metadata": {},
   "outputs": [
    {
     "data": {
      "text/plain": [
       "array([0, 0, 0, 1, 1, 2, 0, 0, 0, 0, 2, 0, 0, 2, 2, 2, 0, 0, 0, 2, 0, 0,\n",
       "       1, 2, 2, 0, 0, 0, 0, 0, 2, 2, 2, 0, 2, 2, 0, 3, 0, 0, 0, 2, 2, 2,\n",
       "       3, 0, 0, 0, 2, 0, 0, 0, 0, 3, 2, 0, 0, 2, 2, 0, 2, 0, 2, 2, 0, 0,\n",
       "       0, 2, 1, 2, 0, 2, 0, 2, 2, 2, 2, 0, 2, 0, 2, 0, 0, 1, 2, 3, 1, 1,\n",
       "       0, 0, 0, 2, 1, 0, 2], dtype=int32)"
      ]
     },
     "execution_count": 27,
     "metadata": {},
     "output_type": "execute_result"
    }
   ],
   "source": [
    "kmeans.labels_"
   ]
  },
  {
   "cell_type": "code",
   "execution_count": 28,
   "id": "bb3cac40",
   "metadata": {},
   "outputs": [],
   "source": [
    "from sklearn.decomposition import PCA\n",
    "import matplotlib.pyplot as plt"
   ]
  },
  {
   "cell_type": "code",
   "execution_count": 29,
   "id": "fe7441f8",
   "metadata": {},
   "outputs": [],
   "source": [
    "pca = PCA(n_components=2)\n",
    "principalComponents = pca.fit_transform(df)\n",
    "principalDf = pd.DataFrame(data = principalComponents \\\n",
    "                          , columns = ['principal component 1', \\\n",
    "                                      'principal component 2'])"
   ]
  },
  {
   "cell_type": "code",
   "execution_count": 30,
   "id": "82072005",
   "metadata": {},
   "outputs": [],
   "source": [
    "principalDf.index = Data['title']"
   ]
  },
  {
   "cell_type": "code",
   "execution_count": 31,
   "id": "7a4f10a9",
   "metadata": {},
   "outputs": [
    {
     "data": {
      "text/plain": [
       "<matplotlib.legend.Legend at 0x7fd281cb0fa0>"
      ]
     },
     "execution_count": 31,
     "metadata": {},
     "output_type": "execute_result"
    },
    {
     "data": {
      "image/png": "[encoded data removed]",
      "text/plain": [
       "<Figure size 432x288 with 1 Axes>"
      ]
     },
     "metadata": {
      "needs_background": "light"
     },
     "output_type": "display_data"
    }
   ],
   "source": [
    "plt.scatter(principalDf.iloc[kmeans.labels_ == 0, 0], principalDf. \\\n",
    "           iloc[kmeans.labels_ == 0, 1], s = 10, c = 'red', \\\n",
    "           label = 'cluster1')\n",
    "plt.scatter(principalDf.iloc[kmeans.labels_ == 1, 0], principalDf. \\\n",
    "           iloc[kmeans.labels_ == 1, 1], s = 10, c = 'blue', \\\n",
    "           label = 'cluster2')\n",
    "plt.scatter(principalDf.iloc[kmeans.labels_ == 2, 0], principalDf. \\\n",
    "           iloc[kmeans.labels_ == 2, 1], s = 10, c = 'green', \\\n",
    "           label = 'cluster3')\n",
    "plt.scatter(principalDf.iloc[kmeans.labels_ == 3, 0], principalDf. \\\n",
    "           iloc[kmeans.labels_ == 3, 1], s = 10, c = 'pink', \\\n",
    "           label = 'cluster4')\n",
    "# plt.scatter(principalDf.iloc[kmeans.labels_ == 4, 0], principalDf. \\\n",
    "#            iloc[kmeans.labels_ == 4, 1], s = 10, c = 'yellow', \\\n",
    "#            label = 'cluster5')\n",
    "# plt.scatter(principalDf.iloc[kmeans.labels_ == 5, 0], principalDf. \\\n",
    "#            iloc[kmeans.labels_ == 5, 1], s = 10, c = 'brown', \\\n",
    "#            label = 'cluster6')\n",
    "# plt.scatter(principalDf.iloc[kmeans.labels_ == 6, 0], principalDf. \\\n",
    "#            iloc[kmeans.labels_ == 6, 1], s = 10, c = 'black', \\\n",
    "#            label = 'cluster7')\n",
    "# plt.scatter(principalDf.iloc[kmeans.labels_ == 7, 0], principalDf. \\\n",
    "#            iloc[kmeans.labels_ == 7, 1], s = 10, c = 'purple', \\\n",
    "#            label = 'cluster8')\n",
    "# plt.scatter(principalDf.iloc[kmeans.labels_ == 8, 0], principalDf. \\\n",
    "#            iloc[kmeans.labels_ == 8, 1], s = 10, c = 'red', \\\n",
    "#            label = 'cluster9')\n",
    "# plt.scatter(principalDf.iloc[kmeans.labels_ == 9, 0], principalDf. \\\n",
    "#            iloc[kmeans.labels_ == 9, 1], s = 10, c = 'green', \\\n",
    "#            label = 'cluster10')\n",
    "plt.legend()"
   ]
  }
 ],
 "metadata": {
  "kernelspec": {
   "display_name": "Python 3 (ipykernel)",
   "language": "python",
   "name": "python3"
  },
  "language_info": {
   "codemirror_mode": {
    "name": "ipython",
    "version": 3
   },
   "file_extension": ".py",
   "mimetype": "text/x-python",
   "name": "python",
   "nbconvert_exporter": "python",
   "pygments_lexer": "ipython3",
   "version": "3.9.13"
  }
 },
 "nbformat": 4,
 "nbformat_minor": 5
}
