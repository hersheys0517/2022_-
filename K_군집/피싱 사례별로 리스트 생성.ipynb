{
 "cells": [
  {
   "cell_type": "code",
   "execution_count": 1,
   "id": "73fc4314",
   "metadata": {},
   "outputs": [
    {
     "name": "stderr",
     "output_type": "stream",
     "text": [
      "/Users/jangchaeyeon/opt/anaconda3/lib/python3.9/site-packages/scipy/__init__.py:146: UserWarning: A NumPy version >=1.16.5 and <1.23.0 is required for this version of SciPy (detected version 1.23.1\n",
      "  warnings.warn(f\"A NumPy version >={np_minversion} and <{np_maxversion}\"\n"
     ]
    }
   ],
   "source": [
    "import pandas as pd\n",
    "import nltk\n",
    "from nltk.stem.porter import PorterStemmer\n",
    "from nltk.tokenize import RegexpTokenizer\n",
    "from nltk.corpus import stopwords\n",
    "import re\n",
    "import csv"
   ]
  },
  {
   "cell_type": "code",
   "execution_count": 2,
   "id": "b7954e2b",
   "metadata": {},
   "outputs": [],
   "source": [
    "# 텍스트 파일 28부터 100까지 불러오기\n",
    "lines2 = list()\n",
    "for i in range(28, 100):\n",
    "    if i==54:\n",
    "        i = i+1\n",
    "    f = open(\"../피싱 사례 텍스트 파일/case0\"+str(i)+\".txt\", 'r')\n",
    "    lines = f.readlines()\n",
    "    lines = ''.join(lines)\n",
    "    lines2.append(lines)\n",
    "    f.close()"
   ]
  },
  {
   "cell_type": "code",
   "execution_count": 3,
   "id": "ecf0c9ea",
   "metadata": {},
   "outputs": [],
   "source": [
    "# 텍스트 파일 101부터 142까지 불러오기\n",
    "for i in range(100, 143):\n",
    "    if i==137:\n",
    "        i = i+1\n",
    "    f = open(\"../피싱 사례 텍스트 파일/case\"+str(i)+\".txt\", 'r')\n",
    "    lines = f.readlines()\n",
    "    lines = ''.join(lines)\n",
    "    lines2.append(lines)\n",
    "    f.close()"
   ]
  },
  {
   "cell_type": "code",
   "execution_count": 4,
   "id": "11af0262",
   "metadata": {},
   "outputs": [],
   "source": [
    "# 결과를 csv 파일로 저장\n",
    "df = pd.DataFrame.from_dict(lines2)\n",
    "df.to_csv('K_Groupping_Test222.csv')"
   ]
  }
 ],
 "metadata": {
  "kernelspec": {
   "display_name": "Python 3 (ipykernel)",
   "language": "python",
   "name": "python3"
  },
  "language_info": {
   "codemirror_mode": {
    "name": "ipython",
    "version": 3
   },
   "file_extension": ".py",
   "mimetype": "text/x-python",
   "name": "python",
   "nbconvert_exporter": "python",
   "pygments_lexer": "ipython3",
   "version": "3.9.13"
  }
 },
 "nbformat": 4,
 "nbformat_minor": 5
}
