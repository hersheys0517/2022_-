{
 "cells": [
  {
   "cell_type": "code",
   "execution_count": 2,
   "id": "ea5f2112",
   "metadata": {},
   "outputs": [],
   "source": [
    "import pandas as pd\n",
    "import glob\n",
    "from afinn import Afinn\n",
    "from nltk.corpus import stopwords \n",
    "from nltk.stem.porter import PorterStemmer\n",
    "from nltk.tokenize import RegexpTokenizer\n",
    "import numpy as np\n",
    "import matplotlib.pyplot as plt"
   ]
  },
  {
   "cell_type": "code",
   "execution_count": 3,
   "id": "ce81d5d2",
   "metadata": {},
   "outputs": [],
   "source": [
    "# 현재 디렉터리에 있는 txt 파일을 전부 불러옴! \n",
    "pos_review=(glob.glob(\"../피싱 사례 텍스트 파일/*.txt\"))[0:142]"
   ]
  },
  {
   "cell_type": "code",
   "execution_count": 4,
   "id": "2ab94d75",
   "metadata": {},
   "outputs": [],
   "source": [
    "lines_pos=[]\n",
    "for i in pos_review:\n",
    "    try:\n",
    "        f = open(i, 'r')\n",
    "        temp = f.readlines()[0]\n",
    "        lines_pos.append(temp)\n",
    "        f.close()\n",
    "    except Exception as e:\n",
    "        continue"
   ]
  },
  {
   "cell_type": "code",
   "execution_count": 5,
   "id": "3ba4d20d",
   "metadata": {},
   "outputs": [],
   "source": [
    "tokenizer = RegexpTokenizer('[\\w]+')"
   ]
  },
  {
   "cell_type": "code",
   "execution_count": 6,
   "id": "884d6c96",
   "metadata": {},
   "outputs": [],
   "source": [
    "stop_words = stopwords.words('english')"
   ]
  },
  {
   "cell_type": "code",
   "execution_count": 7,
   "id": "61b1bde5",
   "metadata": {},
   "outputs": [],
   "source": [
    "count = {} # 동시출현 빈도가 저장될 dict\n",
    "for line in lines_pos:\n",
    "    words =  line.lower()\n",
    "    tokens = tokenizer.tokenize(words)\n",
    "    stopped_tokens = [i for i in list(set(tokens)) if not i in stop_words+[\"br\"]]\n",
    "    stopped_tokens2 = [i for i in stopped_tokens if len(i)>1]\n",
    "    for i, a in enumerate(stopped_tokens2):\n",
    "        for b in stopped_tokens2[i+1:]:\n",
    "            if a>b: \n",
    "                count[b, a] = count.get((b, a),0) + 1  \n",
    "            else :\n",
    "                count[a, b] = count.get((a, b),0) + 1"
   ]
  },
  {
   "cell_type": "code",
   "execution_count": 8,
   "id": "94a04685",
   "metadata": {},
   "outputs": [],
   "source": [
    "df=pd.DataFrame.from_dict(count, orient='index')"
   ]
  },
  {
   "cell_type": "code",
   "execution_count": 9,
   "id": "ffc4c092",
   "metadata": {},
   "outputs": [],
   "source": [
    "list1=[]\n",
    "for i in range(len(df)):\n",
    "    list1.append([df.index[i][0],df.index[i][1],df[0][i]])"
   ]
  },
  {
   "cell_type": "code",
   "execution_count": 10,
   "id": "271e4e1a",
   "metadata": {},
   "outputs": [],
   "source": [
    "df2=pd.DataFrame(list1, columns=[\"term1\",\"term2\",\"freq\"])"
   ]
  },
  {
   "cell_type": "code",
   "execution_count": 11,
   "id": "aba60dbb",
   "metadata": {},
   "outputs": [],
   "source": [
    "df3=df2.sort_values(by=['freq'],ascending=False)"
   ]
  },
  {
   "cell_type": "code",
   "execution_count": 12,
   "id": "e382b195",
   "metadata": {},
   "outputs": [],
   "source": [
    "df3_pos=df3.reset_index(drop=True)"
   ]
  },
  {
   "cell_type": "code",
   "execution_count": 13,
   "id": "1759356f",
   "metadata": {},
   "outputs": [],
   "source": [
    "class MakeGraphml:\n",
    "\n",
    "    def make_graphml(self, pair_file, graphml_file):\n",
    "        out = open(graphml_file, 'w', encoding = 'utf-8')\n",
    "\n",
    "        entity = []\n",
    "        e_dict = {}\n",
    "        count = []\n",
    "        for i in range(len(pair_file)):\n",
    "            e1 = pair_file.iloc[i,0]\n",
    "            e2 = pair_file.iloc[i,1]\n",
    "            #frq = ((word_dict[e1], word_dict[e2]),  pair.split('\\t')[2])\n",
    "            frq = ((e1, e2), pair_file.iloc[i,2])\n",
    "            if frq not in count: count.append(frq)   # ((a, b), frq)\n",
    "            if e1 not in entity: entity.append(e1)\n",
    "            if e2 not in entity: entity.append(e2)\n",
    "        print('# terms: %s'% len(entity))\n",
    "\n",
    "      \n",
    "        for i, w in enumerate(entity):\n",
    "            e_dict[w] = i + 1 # {word: id}\n",
    "\n",
    "        out.write(\n",
    "            \"<?xml version=\\\"1.0\\\" encoding=\\\"UTF-8\\\"?><graphml xmlns=\\\"http://graphml.graphdrawing.org/xmlns\\\" xmlns:xsi=\\\"http://www.w3.org/2001/XMLSchema-instance\\\" xsi:schemaLocation=\\\"http://graphml.graphdrawing.org/xmlnshttp://graphml.graphdrawing.org/xmlns/1.0/graphml.xsd\\\">\" +\n",
    "            \"<key id=\\\"d1\\\" for=\\\"edge\\\" attr.name=\\\"weight\\\" attr.type=\\\"double\\\"/>\" +\n",
    "            \"<key id=\\\"d0\\\" for=\\\"node\\\" attr.name=\\\"label\\\" attr.type=\\\"string\\\"/>\" +\n",
    "            \"<graph id=\\\"Entity\\\" edgedefault=\\\"undirected\\\">\" + \"\\n\")\n",
    "\n",
    "        # nodes\n",
    "        for i in entity:\n",
    "            out.write(\"<node id=\\\"\" + str(e_dict[i]) +\"\\\">\" + \"\\n\")\n",
    "            out.write(\"<data key=\\\"d0\\\">\" + i + \"</data>\" + \"\\n\")\n",
    "            out.write(\"</node>\")\n",
    "\n",
    "        # edges\n",
    "        for y in range(len(count)):\n",
    "            out.write(\"<edge source=\\\"\" + str(e_dict[count[y][0][0]]) + \"\\\" target=\\\"\" + str(e_dict[count[y][0][1]]) + \"\\\">\" + \"\\n\")\n",
    "            out.write(\"<data key=\\\"d1\\\">\" + str(count[y][1]) + \"</data>\" + \"\\n\")\n",
    "            out.write(\"</edge>\")\n",
    "\n",
    "        out.write(\"</graph> </graphml>\")\n",
    "        print('now you can see %s' % graphml_file)\n",
    "\n",
    "        out.close()"
   ]
  },
  {
   "cell_type": "code",
   "execution_count": 14,
   "id": "d8a3b858",
   "metadata": {},
   "outputs": [],
   "source": [
    "gm = MakeGraphml()"
   ]
  },
  {
   "cell_type": "code",
   "execution_count": 15,
   "id": "09b393be",
   "metadata": {},
   "outputs": [],
   "source": [
    "graphml_file = '연관어네트워크.graphml'"
   ]
  },
  {
   "cell_type": "code",
   "execution_count": 16,
   "id": "39dd2522",
   "metadata": {},
   "outputs": [
    {
     "name": "stdout",
     "output_type": "stream",
     "text": [
      "# terms: 6\n",
      "now you can see 연관어네트워크.graphml\n"
     ]
    }
   ],
   "source": [
    "gm.make_graphml(df3_pos.iloc[0:(len(np.where(df3_pos['freq']>10)[0])),:], graphml_file)"
   ]
  },
  {
   "cell_type": "code",
   "execution_count": null,
   "id": "e935184d",
   "metadata": {},
   "outputs": [],
   "source": []
  }
 ],
 "metadata": {
  "kernelspec": {
   "display_name": "Python 3 (ipykernel)",
   "language": "python",
   "name": "python3"
  },
  "language_info": {
   "codemirror_mode": {
    "name": "ipython",
    "version": 3
   },
   "file_extension": ".py",
   "mimetype": "text/x-python",
   "name": "python",
   "nbconvert_exporter": "python",
   "pygments_lexer": "ipython3",
   "version": "3.9.13"
  }
 },
 "nbformat": 4,
 "nbformat_minor": 5
}
